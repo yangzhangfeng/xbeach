{
 "cells": [
  {
   "cell_type": "markdown",
   "metadata": {},
   "source": [
    "# XBeach generate inputs"
   ]
  },
  {
   "cell_type": "code",
   "execution_count": 1,
   "metadata": {},
   "outputs": [],
   "source": [
    "import sys;sys.path.append('../xbeach/')\n",
    "from importlib import reload\n",
    "from libs import *\n",
    "from scipy.io import loadmat\n",
    "import xbeach\n",
    "import utils\n",
    "from xbeach_inputs import *\n",
    "from datetime import datetime,timedelta"
   ]
  },
  {
   "cell_type": "code",
   "execution_count": 2,
   "metadata": {},
   "outputs": [],
   "source": [
    "root = pl.Path(r'Z:\\Users\\Tyler\\projects\\TNC\\modeling\\final_grid2')"
   ]
  },
  {
   "cell_type": "code",
   "execution_count": 3,
   "metadata": {},
   "outputs": [],
   "source": [
    "def test(path:str,bathy_file:str,fname:str='vege_map.txt'):\n",
    "    path = pl.Path(path)\n",
    "    with open(str(path / bathy_file),'r+') as fin:\n",
    "        with open(str(path / fname),'w+') as fout:\n",
    "            lines = fin.readlines()\n",
    "            new_line,temp,ii = 0,0,0\n",
    "            for line in lines:\n",
    "                temp += 1\n",
    "                data = line.strip().split('  ')\n",
    "\n",
    "                if (temp/28).is_integer():\n",
    "                    ii = 0\n",
    "                    new_line += 1\n",
    "\n",
    "                for i in range(0,len(data)):\n",
    "                    vege = []\n",
    "                    new = []\n",
    "                    if data != '':            \n",
    "                        if 81 < new_line < 134 and 87 < ii < 132 and 0.05<float(data[i]) < 0.6:\n",
    "                            fout.write('   '+str(2))\n",
    "                        elif 0.05 < float(data[i]) < 0.55:\n",
    "                            fout.write('   '+str(1))\n",
    "                        elif float(data[i]) > 0.75:\n",
    "                            fout.write('   '+str(3))\n",
    "                        else:\n",
    "                            fout.write('   '+str(0))\n",
    "                        ii += 1\n",
    "\n",
    "                fout.write('\\n')\n",
    "    return"
   ]
  },
  {
   "cell_type": "code",
   "execution_count": null,
   "metadata": {},
   "outputs": [],
   "source": [
    "test(root,'med_res.dep')"
   ]
  },
  {
   "cell_type": "code",
   "execution_count": null,
   "metadata": {},
   "outputs": [],
   "source": []
  },
  {
   "cell_type": "code",
   "execution_count": null,
   "metadata": {},
   "outputs": [],
   "source": []
  },
  {
   "cell_type": "code",
   "execution_count": null,
   "metadata": {},
   "outputs": [],
   "source": []
  },
  {
   "cell_type": "code",
   "execution_count": null,
   "metadata": {},
   "outputs": [],
   "source": []
  },
  {
   "cell_type": "code",
   "execution_count": null,
   "metadata": {},
   "outputs": [],
   "source": []
  },
  {
   "cell_type": "code",
   "execution_count": null,
   "metadata": {},
   "outputs": [],
   "source": []
  },
  {
   "cell_type": "code",
   "execution_count": null,
   "metadata": {},
   "outputs": [],
   "source": []
  },
  {
   "cell_type": "code",
   "execution_count": null,
   "metadata": {},
   "outputs": [],
   "source": []
  },
  {
   "cell_type": "code",
   "execution_count": null,
   "metadata": {},
   "outputs": [],
   "source": []
  },
  {
   "cell_type": "code",
   "execution_count": 3,
   "metadata": {},
   "outputs": [],
   "source": [
    "write_spatial_vege(root,'med_res.dep')"
   ]
  },
  {
   "cell_type": "code",
   "execution_count": 4,
   "metadata": {},
   "outputs": [],
   "source": [
    "temp = pd.read_csv(str(root / 'med_res.dep'), sep='\\s+')"
   ]
  },
  {
   "cell_type": "code",
   "execution_count": 5,
   "metadata": {},
   "outputs": [
    {
     "data": {
      "text/plain": [
       "True"
      ]
     },
     "execution_count": 5,
     "metadata": {},
     "output_type": "execute_result"
    }
   ],
   "source": [
    "(1.).is_integer()"
   ]
  },
  {
   "cell_type": "code",
   "execution_count": null,
   "metadata": {},
   "outputs": [],
   "source": []
  }
 ],
 "metadata": {
  "kernelspec": {
   "display_name": "Python [conda env:general]",
   "language": "python",
   "name": "conda-env-general-py"
  },
  "language_info": {
   "codemirror_mode": {
    "name": "ipython",
    "version": 3
   },
   "file_extension": ".py",
   "mimetype": "text/x-python",
   "name": "python",
   "nbconvert_exporter": "python",
   "pygments_lexer": "ipython3",
   "version": "3.6.8"
  }
 },
 "nbformat": 4,
 "nbformat_minor": 2
}
