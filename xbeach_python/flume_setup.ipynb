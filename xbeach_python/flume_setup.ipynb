{
 "cells": [
  {
   "cell_type": "markdown",
   "metadata": {},
   "source": [
    "# Create wave flume"
   ]
  },
  {
   "cell_type": "code",
   "execution_count": 1,
   "metadata": {},
   "outputs": [],
   "source": [
    "import pandas as pd\n",
    "import numpy as np\n",
    "import os\n",
    "import plotly.plotly as py\n",
    "import plotly.graph_objs as go\n",
    "from plotly.offline import plot,iplot, init_notebook_mode\n",
    "import oct2py\n",
    "from oct2py import octave\n",
    "import pathlib as pl\n",
    "import warnings\n",
    "warnings.filterwarnings(\"ignore\")"
   ]
  },
  {
   "cell_type": "markdown",
   "metadata": {},
   "source": [
    "### Initialize Octave Engine and add xbeach matlab library"
   ]
  },
  {
   "cell_type": "code",
   "execution_count": 2,
   "metadata": {},
   "outputs": [],
   "source": [
    "root = pl.Path(r'Z:\\Users\\Tyler\\projects\\flume')\n",
    "#octave.addpath(r'Z:\\Users\\Tyler\\other\\xbeach_release_10May2013');\n",
    "#octave.addpathfast(r'Z:\\Users\\Tyler\\other\\xbeach_release_10May2013');\n",
    "#octave.run('oetsettings.m');"
   ]
  },
  {
   "cell_type": "markdown",
   "metadata": {},
   "source": [
    "### Add paths"
   ]
  },
  {
   "cell_type": "code",
   "execution_count": 3,
   "metadata": {},
   "outputs": [],
   "source": [
    "from importlib import reload\n",
    "import utils\n",
    "reload(utils)\n",
    "from utils import *"
   ]
  },
  {
   "cell_type": "code",
   "execution_count": 4,
   "metadata": {},
   "outputs": [],
   "source": [
    "field = pl.Path(r'Z:\\Project_TNC\\3_Field\\2_Data\\2_Processed')\n",
    "water = hobo(str(field / '1_hobo' / 'di_20180912_20181205' / 't1_v2.mat'))\n",
    "waves = trublues(str(field / '2_trublue' / 'di_20180912' / 'after_juan' / 't1s1.mat'))\n",
    "#adcp = adcp(str(field / '2_trublue' / 'di_20180912' / 'after_juan' /'adcp1.mat'))\n",
    "flume = pd.read_csv(str(root / 'flume_xs.csv'))\n",
    "x = np.array(np.round(flume['x'],6))\n",
    "z = np.array(np.round(flume['z'],6))\n",
    "z3 = np.array(np.round(flume['z3'],6))\n",
    "z4 = np.array(np.round(flume['z4'],6))\n",
    "layer = np.array(np.round(flume['layer'],6))"
   ]
  },
  {
   "cell_type": "markdown",
   "metadata": {},
   "source": [
    "### Creating a non-erodible layer file"
   ]
  },
  {
   "cell_type": "code",
   "execution_count": 39,
   "metadata": {},
   "outputs": [],
   "source": [
    "layer = []\n",
    "for i in range(0,90):\n",
    "    if 32<i<38:\n",
    "        layer.append(0)\n",
    "    else:\n",
    "        layer.append(1)\n",
    "layer = np.array(layer)"
   ]
  },
  {
   "cell_type": "markdown",
   "metadata": {},
   "source": [
    "### Plot Pre Cross Section"
   ]
  },
  {
   "cell_type": "code",
   "execution_count": 11,
   "metadata": {},
   "outputs": [
    {
     "data": {
      "application/vnd.plotly.v1+json": {
       "config": {
        "linkText": "Export to plot.ly",
        "plotlyServerURL": "https://plot.ly",
        "showLink": false
       },
       "data": [
        {
         "type": "scatter",
         "uid": "356641e8-2c0a-4e6b-9f62-28ad22e5d934",
         "x": [
          0,
          0.5,
          1,
          1.5,
          2,
          2.5,
          3,
          3.5,
          4,
          4.5,
          5,
          5.5,
          6,
          6.5,
          7,
          7.5,
          8,
          8.5,
          9,
          9.5,
          10,
          10.5,
          11,
          11.5,
          12,
          12.5,
          13,
          13.5,
          14,
          14.5,
          15,
          15.5,
          16,
          16.5,
          17,
          17.5,
          18,
          18.5,
          19,
          19.5,
          20,
          20.5,
          21,
          21.5,
          22,
          22.5,
          23,
          23.5,
          24,
          24.5,
          25,
          25.5,
          26,
          26.5,
          27,
          27.5,
          28,
          28.5,
          29,
          29.5,
          30,
          30.5,
          31,
          31.5,
          32,
          32.5,
          33,
          33.5,
          34,
          34.5,
          35,
          35.5,
          36,
          36.5,
          37,
          37.5,
          38,
          38.5,
          39,
          39.5,
          40,
          40.5,
          41,
          41.5,
          42,
          42.5,
          43,
          43.5,
          44,
          44.5,
          45,
          45.5,
          46,
          46.5,
          47,
          47.5,
          48,
          48.5,
          49,
          49.5,
          50,
          50.5,
          51,
          51.5,
          52,
          52.5,
          53,
          53.5,
          54,
          54.5,
          55,
          55.5,
          56,
          56.5,
          57,
          57.5,
          58,
          58.5,
          59,
          59.5,
          60,
          60.5,
          61,
          61.5,
          62,
          62.5,
          63,
          63.5,
          64,
          64.5,
          65,
          65.5,
          66,
          66.5,
          67,
          67.5,
          68,
          68.5,
          69,
          69.5,
          70,
          70.5,
          71,
          71.5,
          72,
          72.5,
          73,
          73.5,
          74,
          74.5,
          75,
          75.5,
          76,
          76.5,
          77,
          77.5,
          78,
          78.5,
          79,
          79.5,
          80,
          80.5,
          81,
          81.5,
          82,
          82.5,
          83,
          83.5,
          84,
          84.5,
          85,
          85.5,
          86,
          86.5,
          87,
          87.5,
          88,
          88.5,
          89,
          89.5,
          90,
          90.5,
          91,
          91.5,
          92,
          92.5,
          93,
          93.5,
          94,
          94.5,
          95,
          95.5,
          96,
          96.5,
          97,
          97.5,
          98,
          98.5,
          99,
          99.5,
          100,
          100.5,
          101,
          101.5,
          102,
          102.5,
          103,
          103.5,
          104
         ],
         "y": [
          0,
          0,
          0,
          0,
          0,
          0,
          0,
          0,
          0,
          0,
          0,
          0,
          0,
          0,
          0,
          0,
          0,
          0,
          0,
          0,
          0,
          0,
          0,
          0,
          0,
          0,
          0,
          0,
          0,
          0,
          0,
          0,
          0,
          0,
          0,
          0,
          0,
          0,
          0,
          0,
          0,
          0,
          0,
          0,
          0,
          0,
          0,
          0,
          0,
          0,
          0,
          0,
          0,
          0,
          0,
          0,
          0,
          0,
          0,
          0,
          0,
          0,
          0,
          0,
          0,
          0,
          0,
          0,
          0,
          0,
          0,
          0,
          0,
          0,
          0,
          0,
          0,
          0,
          0,
          0,
          0,
          0,
          0,
          0,
          0,
          0,
          0,
          0,
          0,
          0,
          0,
          0,
          0,
          0,
          0,
          0,
          0.083333,
          0.166667,
          0.25,
          0.333333,
          0.416667,
          0.5,
          0.583333,
          0.666667,
          0.75,
          0.833333,
          0.916667,
          1,
          1.083333,
          1.083333,
          1.083333,
          1.083333,
          1.083333,
          1.083333,
          1.083333,
          1.083333,
          1.083333,
          1.083333,
          1.083333,
          1.283333,
          1.283333,
          1.283333,
          1.283333,
          1.083333,
          1.083333,
          1.083333,
          1.083333,
          1.083333,
          1.083333,
          1.083333,
          1.083333,
          1.083333,
          1.083333,
          1.083333,
          1.083333,
          1.083333,
          1.083333,
          1.083333,
          1.083333,
          1.083333,
          1.083333,
          1.083333,
          1.083333,
          1.083333,
          1.083333,
          1.083333,
          1.083333,
          1.083333,
          1.166666,
          1.25,
          1.333333,
          1.416666,
          1.5,
          1.583333,
          1.666666,
          1.75,
          1.833333,
          1.916666,
          2,
          2.083333,
          2.166666,
          2.25,
          2.333333,
          2.416666,
          2.5,
          2.583333,
          2.666666,
          2.75,
          2.833333,
          2.916666,
          3,
          3.083333,
          3.166666,
          3.25,
          3.333333,
          3.416666,
          3.5,
          3.583333,
          3.658,
          3.658,
          3.658,
          3.658,
          3.658,
          3.658,
          3.658,
          3.658,
          3.658,
          3.658,
          3.658,
          3.658,
          3.658,
          3.658,
          3.658,
          3.658,
          3.658,
          3.658,
          3.658,
          3.658,
          3.658,
          3.658,
          3.658,
          3.658,
          3.658,
          3.658,
          3.658,
          3.658,
          3.658,
          3.658,
          3.658
         ]
        }
       ],
       "layout": {
        "autosize": true,
        "xaxis": {
         "autorange": true,
         "range": [
          0,
          104
         ],
         "type": "linear"
        },
        "yaxis": {
         "autorange": true,
         "range": [
          -0.20322222222222222,
          3.861222222222222
         ],
         "type": "linear"
        }
       }
      },
      "image/png": "[encoded data removed]"
     },
     "metadata": {},
     "output_type": "display_data"
    }
   ],
   "source": [
    "trace = go.Scatter(\n",
    "    x = x,\n",
    "    y = z4)\n",
    "data = [trace]\n",
    "iplot(data)"
   ]
  },
  {
   "cell_type": "markdown",
   "metadata": {},
   "source": [
    "### Generate the Topo/Bathy Cross Section"
   ]
  },
  {
   "cell_type": "code",
   "execution_count": 9,
   "metadata": {},
   "outputs": [
    {
     "name": "stdout",
     "output_type": "stream",
     "text": [
      "warning: Ignoring non-existing grid finalisation option [lateral_extend]\n",
      "warning: Ignoring non-existing grid finalisation option [seaward_flatten]\n",
      "warning: Ignoring non-existing grid finalisation option [seaward_extend]\n"
     ]
    }
   ],
   "source": [
    "bedfrict = z*0+0.2\n",
    "dxmin = 0.5\n",
    "#data = octave.xb_grid_xgrid(x.tolist(),z.tolist(),'dxmin',dxmin)\n",
    "bathy = octave.xb_generate_bathy('x',x.tolist(),'z',z2.tolist(),'ne',layer) # This doesn't always generate x.grd file"
   ]
  },
  {
   "cell_type": "markdown",
   "metadata": {},
   "source": [
    "### Generate Waves"
   ]
  },
  {
   "cell_type": "code",
   "execution_count": 10,
   "metadata": {},
   "outputs": [],
   "source": [
    "wave = octave.xb_generate_waves('Hm0',waves['h0'],'Tp',waves['Tp'],'duration',1200.0,'mainang',90.0,'gammajsp',3.3,'s',10.0,'fnyq',0.45)"
   ]
  },
  {
   "cell_type": "code",
   "execution_count": null,
   "metadata": {},
   "outputs": [],
   "source": []
  },
  {
   "cell_type": "code",
   "execution_count": 11,
   "metadata": {},
   "outputs": [],
   "source": [
    "duration = 1200\n",
    "path = root / 'xbeach' / 'test6'\n",
    "write_waves(str(path),waves['h0']+0.25,waves['Tp'],duration,604800)"
   ]
  },
  {
   "cell_type": "markdown",
   "metadata": {},
   "source": [
    "### Generate Tidal Forcing"
   ]
  },
  {
   "cell_type": "code",
   "execution_count": 12,
   "metadata": {},
   "outputs": [],
   "source": [
    "time = np.arange(0,43200,360)\n",
    "wl =  1+np.sin(time*(0.83333))#for i in range(0,time[-1],360)] "
   ]
  },
  {
   "cell_type": "code",
   "execution_count": 17,
   "metadata": {},
   "outputs": [
    {
     "data": {
      "text/plain": [
       "[<matplotlib.lines.Line2D at 0x1c5e7852550>]"
      ]
     },
     "execution_count": 17,
     "metadata": {},
     "output_type": "execute_result"
    },
    {
     "data": {
      "image/png": "[encoded data removed]",
      "text/plain": [
       "<Figure size 432x288 with 1 Axes>"
      ]
     },
     "metadata": {
      "needs_background": "light"
     },
     "output_type": "display_data"
    }
   ],
   "source": [
    "plt.plot(water.index.values,water['water level (m) NAVD88'])"
   ]
  },
  {
   "cell_type": "code",
   "execution_count": 9,
   "metadata": {},
   "outputs": [],
   "source": [
    "water = water.reset_index().dropna()"
   ]
  },
  {
   "cell_type": "code",
   "execution_count": 36,
   "metadata": {},
   "outputs": [
    {
     "data": {
      "text/plain": [
       "array([0.667994, 0.665994, 0.639994, ..., 0.481994, 0.505994, 0.539994])"
      ]
     },
     "execution_count": 36,
     "metadata": {},
     "output_type": "execute_result"
    }
   ],
   "source": [
    "water['water level (m) NAVD88'].astype('float').values-.25"
   ]
  },
  {
   "cell_type": "code",
   "execution_count": null,
   "metadata": {},
   "outputs": [],
   "source": [
    "path = root / 'xbeach' / 'test6'"
   ]
  },
  {
   "cell_type": "code",
   "execution_count": 5,
   "metadata": {},
   "outputs": [],
   "source": [
    "path = pl.Path(r'Z:\\Users\\Tyler\\projects\\TNC\\modeling\\2d\\april12_inputs')\n",
    "write_tide(path,water.index.values*360,water['water level (m) NAVD88'].astype('float').values\n",
    "           ,water['water level (m) NAVD88'].astype('float').values)"
   ]
  },
  {
   "cell_type": "code",
   "execution_count": 15,
   "metadata": {},
   "outputs": [
    {
     "data": {
      "image/png": "[encoded data removed]",
      "text/plain": [
       "<Figure size 1296x288 with 1 Axes>"
      ]
     },
     "metadata": {
      "needs_background": "light"
     },
     "output_type": "display_data"
    }
   ],
   "source": [
    "fig,ax = plt.subplots(figsize=(18,4))\n",
    "\n",
    "ax.plot(waves['datetime'],waves['h0'],color='#0099ff')\n",
    "ax.set_xlim([waves['datetime'].iloc[0],waves['datetime'].iloc[-1]])\n",
    "ax.set_ylim([0,0.5])\n",
    "ax.grid(True)\n",
    "ax.set_ylabel('$H_{s}$(m)')\n",
    "ax.set_title('Hurricane Florence Wave measuremnts')\n",
    "plt.savefig('t1_waves.png',dpi=300,bbox_inches = 'tight', pad_inches = 0.1)\n"
   ]
  },
  {
   "cell_type": "code",
   "execution_count": null,
   "metadata": {},
   "outputs": [],
   "source": []
  },
  {
   "cell_type": "code",
   "execution_count": null,
   "metadata": {},
   "outputs": [],
   "source": []
  },
  {
   "cell_type": "code",
   "execution_count": null,
   "metadata": {},
   "outputs": [],
   "source": []
  },
  {
   "cell_type": "code",
   "execution_count": null,
   "metadata": {},
   "outputs": [],
   "source": []
  },
  {
   "cell_type": "markdown",
   "metadata": {},
   "source": [
    "### Generate Settings"
   ]
  },
  {
   "cell_type": "code",
   "execution_count": 20,
   "metadata": {},
   "outputs": [],
   "source": [
    "xb_set=octave.xb_generate_settings('outputformat','netcdf','nx',str(len(x)-1),'ny',0.0,'depfile','bed.dep',\n",
    "        'vardx',1.0,'thetamin',0.0,'thetamax',180.0,'dtheta',180.0,'dtheta_s',5.0,'xori',0.0,'dx',0.5,\n",
    "        'xfile','x.grd','bcfile','filelist.txt','instat','jons','morfac', 1.0,'posdwn',-1.0,'avalanching',0.0,\n",
    "        'morstart', 0.0,'CFL', 0.7,'front', 'waveflume','random',0.0,'taper',10.0,'zs0file','tide.txt','tideloc',2.0,\n",
    "        'back', 'abs1d','left','wall','right','wall','mpiboundary','auto','morfacopt',0.0,'struct',1.0,\n",
    "        'ne_layer','nebed.dep','thetanaut', 1.0,'zs0',0.0,'single_dir',0.0,'tstop', 43200.0,'tstart', 0.0,\n",
    "        'tint', 604800.0,'tintm',360.0,'tintg',604800.0,'epsi',-1.0,'facua',0.30,\n",
    "        'bedfriction', 'manning','meanvar',{'zb', 'zs', 'H','u','v','structdepth'} ,'globalvar',{'zb', 'zs','H','u','v'});"
   ]
  },
  {
   "cell_type": "markdown",
   "metadata": {},
   "source": [
    "### Join all parameters and write inputs"
   ]
  },
  {
   "cell_type": "code",
   "execution_count": 13,
   "metadata": {},
   "outputs": [],
   "source": [
    "#np.savetxt(str(root / 'xbeach' / 'test6' / 'x.grd'),x.reshape(1,209),fmt='%.4e',delimiter='    ')\n",
    "np.savetxt(str(root / 'xbeach' / 'no_struct' / 'bed.dep'),z3.reshape(1,209),fmt='%.4e',delimiter='    ')\n",
    "#np.savetxt(str(root / 'xbeach' / 'test6' / 'nebed.dep'),layer.reshape(1,209),fmt='%.4e',delimiter='    ')"
   ]
  },
  {
   "cell_type": "code",
   "execution_count": 26,
   "metadata": {},
   "outputs": [
    {
     "name": "stdout",
     "output_type": "stream",
     "text": [
      "start\n",
      "Here\n",
      "add general\n"
     ]
    }
   ],
   "source": [
    "octave.xb_write_input(str(root / 'xbeach' / 'test6' / 'params.txt'), xb_set)"
   ]
  },
  {
   "cell_type": "code",
   "execution_count": null,
   "metadata": {},
   "outputs": [],
   "source": []
  },
  {
   "cell_type": "code",
   "execution_count": null,
   "metadata": {},
   "outputs": [],
   "source": []
  },
  {
   "cell_type": "code",
   "execution_count": null,
   "metadata": {},
   "outputs": [],
   "source": []
  }
 ],
 "metadata": {
  "kernelspec": {
   "display_name": "Python [conda env:windrose]",
   "language": "python",
   "name": "conda-env-windrose-py"
  },
  "language_info": {
   "codemirror_mode": {
    "name": "ipython",
    "version": 3
   },
   "file_extension": ".py",
   "mimetype": "text/x-python",
   "name": "python",
   "nbconvert_exporter": "python",
   "pygments_lexer": "ipython3",
   "version": "3.6.8"
  }
 },
 "nbformat": 4,
 "nbformat_minor": 2
}
